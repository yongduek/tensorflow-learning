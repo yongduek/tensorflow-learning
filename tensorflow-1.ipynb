{
 "cells": [
  {
   "cell_type": "markdown",
   "metadata": {},
   "source": [
    "# Learning Tensorflow 1"
   ]
  },
  {
   "cell_type": "markdown",
   "metadata": {
    "deletable": true,
    "editable": true
   },
   "source": [
    "## Everything is operation!"
   ]
  },
  {
   "cell_type": "code",
   "execution_count": 5,
   "metadata": {
    "collapsed": false,
    "deletable": true,
    "editable": true
   },
   "outputs": [
    {
     "name": "stdout",
     "output_type": "stream",
     "text": [
      "c is a tf operator:  Tensor(\"add_2:0\", shape=(), dtype=int32)\n",
      "The output of the operation c:  5\n"
     ]
    }
   ],
   "source": [
    "import tensorflow as tf\n",
    "sess = tf.Session()\n",
    "a = tf.constant(2)\n",
    "b = tf.constant(3)\n",
    "c=a+b\n",
    "print ('c is a tf operator: ', c)\n",
    "print ('The output of the operation c: ', sess.run(c))"
   ]
  },
  {
   "cell_type": "markdown",
   "metadata": {},
   "source": [
    "## Placeholder\n",
    "\n",
    "실제연산에서 사용할 값은 tf.Session.run() 에서 지정해준다."
   ]
  },
  {
   "cell_type": "code",
   "execution_count": 10,
   "metadata": {
    "collapsed": false
   },
   "outputs": [
    {
     "name": "stdout",
     "output_type": "stream",
     "text": [
      "Addition of two variables:  5.0\n",
      "Multiplication of two variables:  6.0\n"
     ]
    }
   ],
   "source": [
    "a = tf.placeholder(tf.float32)\n",
    "b = tf.placeholder(tf.float32)\n",
    "\n",
    "# define some operation\n",
    "add = tf.add(a,b)\n",
    "mul = tf.multiply(a,b, name='mul-axb')\n",
    "\n",
    "# launch the default graph\n",
    "with tf.Session() as ss:\n",
    "    print ('Addition of two variables: ', ss.run(add, feed_dict={a:2, b:3}))\n",
    "    print ('Multiplication of two variables: ', ss.run(mul, feed_dict={a:2, b:3}))\n",
    "    "
   ]
  },
  {
   "cell_type": "markdown",
   "metadata": {},
   "source": [
    "## simple linear regression\n",
    "What tf does is simply a gradient descent minimization."
   ]
  },
  {
   "cell_type": "code",
   "execution_count": 13,
   "metadata": {
    "collapsed": false
   },
   "outputs": [
    {
     "name": "stdout",
     "output_type": "stream",
     "text": [
      "0 0.191364 [ 1.48151374] [ 1.22879004]\n",
      "10 0.0598196 [ 1.28406501] [ 1.35425341]\n",
      "20 0.0367697 [ 1.22271061] [ 1.49372649]\n",
      "30 0.0226015 [ 1.17460787] [ 1.60307503]\n",
      "40 0.0138926 [ 1.13689494] [ 1.68880558]\n",
      "50 0.00853942 [ 1.10732734] [ 1.75601959]\n",
      "60 0.00524898 [ 1.08414602] [ 1.8087163]\n",
      "70 0.00322643 [ 1.06597149] [ 1.85003114]\n",
      "80 0.00198321 [ 1.05172253] [ 1.88242245]\n",
      "90 0.00121904 [ 1.04055119] [ 1.90781748]\n",
      "100 0.000749312 [ 1.03179264] [ 1.92772782]\n",
      "110 0.000460584 [ 1.02492595] [ 1.94333768]\n",
      "120 0.00028311 [ 1.01954222] [ 1.95557606]\n",
      "130 0.000174022 [ 1.01532125] [ 1.9651711]\n",
      "140 0.000106964 [ 1.01201212] [ 1.97269368]\n",
      "150 6.57513e-05 [ 1.00941765] [ 1.97859144]\n",
      "160 4.0416e-05 [ 1.00738358] [ 1.98321533]\n",
      "170 2.48418e-05 [ 1.0057888] [ 1.98684061]\n",
      "180 1.52695e-05 [ 1.00453842] [ 1.98968303]\n",
      "190 9.38631e-06 [ 1.00355828] [ 1.99191141]\n"
     ]
    }
   ],
   "source": [
    "x_data = [1, 2, 3]\n",
    "y_data = [3, 4, 5]\n",
    "# here we want to find (W, b) such that y_data = W*x_data + b\n",
    "# the truth value is (1,2)\n",
    "W = tf.Variable(tf.random_uniform([1], -1, 1))\n",
    "b = tf.Variable(tf.random_uniform([1], -1, 1))\n",
    "\n",
    "model = W * x_data + b\n",
    "\n",
    "# simple cost function\n",
    "cost = tf.reduce_mean (tf.square(model - y_data))\n",
    "\n",
    "# minimize (learn)\n",
    "a = tf.Variable (0.1) # learning rate\n",
    "opt = tf.train.GradientDescentOptimizer(a)\n",
    "train = opt.minimize(cost)\n",
    "\n",
    "# initialize tf\n",
    "tf_init = tf.global_variables_initializer()\n",
    "\n",
    "ss = tf.Session()\n",
    "ss.run (tf_init)\n",
    "\n",
    "# do regression\n",
    "for step in range (200):\n",
    "    ss.run (train)\n",
    "    if step%10 == 0:\n",
    "        print (step, ss.run(cost), ss.run(W), ss.run(b))"
   ]
  },
  {
   "cell_type": "markdown",
   "metadata": {},
   "source": [
    "## Simple linear regression with tf.placeholder()"
   ]
  },
  {
   "cell_type": "code",
   "execution_count": 21,
   "metadata": {
    "collapsed": false
   },
   "outputs": [
    {
     "name": "stdout",
     "output_type": "stream",
     "text": [
      "0 0.128423 [ 1.35165775] [ 1.51111531]\n",
      "10 0.0256399 [ 1.18597472] [ 1.57723582]\n",
      "20 0.0157602 [ 1.14580655] [ 1.66854751]\n",
      "30 0.00968742 [ 1.1143142] [ 1.74013686]\n",
      "40 0.00595463 [ 1.08962381] [ 1.79626393]\n",
      "50 0.00366019 [ 1.07026637] [ 1.84026814]\n",
      "60 0.00224982 [ 1.05508971] [ 1.87476826]\n",
      "70 0.00138291 [ 1.04319096] [ 1.90181673]\n",
      "80 0.000850038 [ 1.03386223] [ 1.92302299]\n",
      "90 0.000522506 [ 1.0265485] [ 1.93964899]\n",
      "100 0.000321171 [ 1.02081442] [ 1.95268404]\n",
      "110 0.000197413 [ 1.0163188] [ 1.96290374]\n",
      "120 0.000121342 [ 1.0127939] [ 1.97091627]\n",
      "130 7.45896e-05 [ 1.01003063] [ 1.97719789]\n",
      "140 4.58484e-05 [ 1.00786412] [ 1.9821229]\n",
      "150 2.81818e-05 [ 1.00616562] [ 1.98598421]\n",
      "160 1.7322e-05 [ 1.00483382] [ 1.98901141]\n",
      "170 1.06473e-05 [ 1.0037899] [ 1.99138474]\n",
      "180 6.54467e-06 [ 1.00297129] [ 1.99324536]\n",
      "190 4.02349e-06 [ 1.00232971] [ 1.99470413]\n",
      "1.00187\n",
      "y(x:5)=  [ 7.00510311]\n",
      "y(x:[5,10])=  [  7.00510311  12.01446056]\n"
     ]
    }
   ],
   "source": [
    "\n",
    "# here we want to find (W, b) such that y_data = W*x_data + b\n",
    "# the truth value is (1,2)\n",
    "W = tf.Variable(tf.random_uniform([1], -1, 1))\n",
    "b = tf.Variable(tf.random_uniform([1], -1, 1))\n",
    "\n",
    "X = tf.placeholder (tf.float32)\n",
    "Y = tf.placeholder (tf.float32)\n",
    "\n",
    "model = W * X + b\n",
    "\n",
    "# simple cost function\n",
    "cost = tf.reduce_mean (tf.square(model - Y))\n",
    "\n",
    "# minimize (learn)\n",
    "a = tf.Variable (0.1) # learning rate\n",
    "opt = tf.train.GradientDescentOptimizer(a)\n",
    "train = opt.minimize(cost)\n",
    "\n",
    "# initialize tf\n",
    "tf_init = tf.global_variables_initializer()\n",
    "\n",
    "ss = tf.Session()\n",
    "ss.run (tf_init)\n",
    "\n",
    "x_in = [1, 2, 3]\n",
    "y_in = [3, 4, 5]\n",
    "\n",
    "# do regression\n",
    "for step in range (200):\n",
    "    ss.run (train, feed_dict={X:x_in, Y:y_in})\n",
    "    if step%10 == 0:\n",
    "        print (step, ss.run(cost, feed_dict={X:x_in, Y:y_in}), \n",
    "               ss.run(W), ss.run(b))\n",
    "    #\n",
    "#\n",
    "Wval = ss.run(W) # result is always a matrix/vector\n",
    "print (Wval[0])\n",
    "\n",
    "#\n",
    "# now, prediction using the learned model\n",
    "print ('y(x:5)= ', ss.run(model, feed_dict={X:5}))\n",
    "print ('y(x:[5,10])= ', ss.run(model, feed_dict={X:[5, 10]}))"
   ]
  },
  {
   "cell_type": "markdown",
   "metadata": {},
   "source": [
    "### Finished."
   ]
  }
 ],
 "metadata": {
  "kernelspec": {
   "display_name": "Python 3",
   "language": "python",
   "name": "python3"
  },
  "language_info": {
   "codemirror_mode": {
    "name": "ipython",
    "version": 3
   },
   "file_extension": ".py",
   "mimetype": "text/x-python",
   "name": "python",
   "nbconvert_exporter": "python",
   "pygments_lexer": "ipython3",
   "version": "3.6.0"
  }
 },
 "nbformat": 4,
 "nbformat_minor": 0
}
