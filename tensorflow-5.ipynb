{
 "cells": [
  {
   "cell_type": "markdown",
   "metadata": {
    "deletable": true,
    "editable": true
   },
   "source": [
    "# XOR Learning\n",
    "\n",
    "- Logical operation is learned.\n",
    "\n",
    "1. A shallow network will be used to test the network.\n",
    "2. A 2-layer network will be tested."
   ]
  },
  {
   "cell_type": "code",
   "execution_count": 1,
   "metadata": {
    "collapsed": false,
    "deletable": true,
    "editable": true,
    "scrolled": true
   },
   "outputs": [
    {
     "name": "stdout",
     "output_type": "stream",
     "text": [
      "xdata [[ 0.  0.]\n",
      " [ 0.  1.]\n",
      " [ 1.  0.]\n",
      " [ 0.  0.]] \n",
      " ydata [[ 0.]\n",
      " [ 1.]\n",
      " [ 1.]\n",
      " [ 0.]]\n",
      "xdata[0].shape= (2,) 4 2\n",
      "ydata.shape= (4, 1)\n"
     ]
    }
   ],
   "source": [
    "import numpy as np\n",
    "xy = np.loadtxt ('train-xor.txt', unpack=True)\n",
    "xdata = xy[0:-1].transpose() # 0 에서 끝-1 까지\n",
    "ydata = xy[-1:].transpose()\n",
    "#ydata.reshape(ydata.shape[0],1)\n",
    "print ('xdata', xdata, '\\n', 'ydata', ydata)\n",
    "print ('xdata[0].shape=', xdata[0].shape, xdata.shape[0], xdata.shape[1])\n",
    "print ('ydata.shape=', ydata.shape)"
   ]
  },
  {
   "cell_type": "markdown",
   "metadata": {
    "deletable": true,
    "editable": true
   },
   "source": [
    "## Specifying Unknown input batch size!\n",
    "\n",
    "- The input data may have unknown number of data. \n",
    "- The codes below shows how to specify such inputs/output data.\n",
    "- Notice that they are all defined as 2D tensors"
   ]
  },
  {
   "cell_type": "code",
   "execution_count": 2,
   "metadata": {
    "collapsed": false,
    "deletable": true,
    "editable": true
   },
   "outputs": [
    {
     "name": "stdout",
     "output_type": "stream",
     "text": [
      "[None, 2]\n",
      "[None, 1]\n"
     ]
    }
   ],
   "source": [
    "import tensorflow as tf\n",
    "\n",
    "X = tf.placeholder (tf.float32, [None,xdata.shape[1]])#+list(xdata[0].shape))\n",
    "print ([None] + list(xdata[0].shape))\n",
    "Y = tf.placeholder (tf.float32, [None]+list(ydata[0].shape))\n",
    "print ([None]+list(ydata[0].shape))"
   ]
  },
  {
   "cell_type": "code",
   "execution_count": 3,
   "metadata": {
    "collapsed": true,
    "deletable": true,
    "editable": true
   },
   "outputs": [],
   "source": [
    "\n",
    "W = tf.Variable (tf.random_uniform([xdata.shape[1],1], -1., 1.))\n",
    "h = tf.matmul (X, W)\n",
    "xor_out = tf.div (1., 1.+tf.exp(-h)) # sigmoid\n",
    "\n",
    "yxlog = Y * tf.log(xor_out) + (1-Y)*tf.log(1.-xor_out)\n",
    "cost = -tf.reduce_mean ( yxlog )"
   ]
  },
  {
   "cell_type": "code",
   "execution_count": 4,
   "metadata": {
    "collapsed": false,
    "deletable": true,
    "editable": true
   },
   "outputs": [
    {
     "name": "stdout",
     "output_type": "stream",
     "text": [
      "X= [[ 0.  0.]\n",
      " [ 0.  1.]\n",
      " [ 1.  0.]\n",
      " [ 0.  0.]]\n",
      "Y= [[ 0.]\n",
      " [ 1.]\n",
      " [ 1.]\n",
      " [ 0.]]\n",
      "W= [[-0.89389777]\n",
      " [ 0.34588337]]\n",
      "X*W= [[ 0.        ]\n",
      " [ 0.34588337]\n",
      " [-0.89389777]\n",
      " [ 0.        ]]\n",
      "xor_out= [[ 0.5       ]\n",
      " [ 0.58561897]\n",
      " [ 0.29030612]\n",
      " [ 0.5       ]]\n",
      "log(xor)= [[-0.69314718]\n",
      " [-0.53508592]\n",
      " [-1.23681927]\n",
      " [-0.69314718]]\n",
      "y*log(xor)= [[-0.        ]\n",
      " [-0.53508592]\n",
      " [-1.23681927]\n",
      " [-0.        ]]\n",
      "tf.multipy(y,log(xor))= [[-0.        ]\n",
      " [-0.53508592]\n",
      " [-1.23681927]\n",
      " [-0.        ]]\n",
      "(1-y)*log(1-xor)= [[-0.69314718]\n",
      " [-0.        ]\n",
      " [-0.        ]\n",
      " [-0.69314718]]\n",
      "yxlog= [[-0.69314718]\n",
      " [-0.53508592]\n",
      " [-1.23681927]\n",
      " [-0.69314718]]\n",
      "cost= 0.78955\n"
     ]
    }
   ],
   "source": [
    "feed_dict={X:xdata, Y:ydata}\n",
    "with tf.Session() as ss:\n",
    "    ss.run(tf.global_variables_initializer())\n",
    "    print ('X=', ss.run(X, feed_dict=feed_dict))\n",
    "    print ('Y=', ss.run(Y, feed_dict))\n",
    "    print ('W=', ss.run(W, feed_dict))\n",
    "    print ('X*W=', ss.run(tf.matmul(X,W), feed_dict))\n",
    "    #print ('h=', ss.run(h,feed_dict))\n",
    "    print ('xor_out=', ss.run(xor_out, feed_dict))\n",
    "    #print (np.divide(1., 1.+np.exp(-np.array([0., 0.24, 0.8, 0]))))\n",
    "    print ('log(xor)=', ss.run(tf.log(xor_out), feed_dict))\n",
    "    print ('y*log(xor)=', ss.run(Y*tf.log(xor_out),feed_dict))\n",
    "    print ('tf.multipy(y,log(xor))=', ss.run(tf.multiply(Y,tf.log(xor_out)),feed_dict))\n",
    "    print ('(1-y)*log(1-xor)=', ss.run((1.-Y)*tf.log(1.-xor_out),feed_dict))\n",
    "    print ('yxlog=', ss.run(yxlog, feed_dict))\n",
    "    print ('cost=', ss.run(cost,feed_dict))"
   ]
  },
  {
   "cell_type": "code",
   "execution_count": 5,
   "metadata": {
    "collapsed": false,
    "deletable": true,
    "editable": true
   },
   "outputs": [],
   "source": [
    "# minimize\n",
    "opt = tf.train.AdamOptimizer(learning_rate=0.01)\n",
    "train = opt.minimize(cost)"
   ]
  },
  {
   "cell_type": "code",
   "execution_count": 6,
   "metadata": {
    "collapsed": true,
    "deletable": true,
    "editable": true
   },
   "outputs": [],
   "source": [
    "def evaluate(ss, xor_out, feed_dict):\n",
    "    pred = ss.run (xor_out, feed_dict={X:xdata, Y:ydata})\n",
    "    print ('pred=', pred.transpose())\n",
    "    cpred = ss.run( tf.equal(tf.floor(xor_out+0.5), Y), feed_dict )\n",
    "    print ('cpred=', cpred.transpose())\n",
    "    accuracy = tf.reduce_mean (tf.cast(cpred, 'float'))\n",
    "    print ('accuracy=', accuracy.eval(feed_dict))"
   ]
  },
  {
   "cell_type": "code",
   "execution_count": 7,
   "metadata": {
    "collapsed": false,
    "deletable": true,
    "editable": true
   },
   "outputs": [
    {
     "name": "stdout",
     "output_type": "stream",
     "text": [
      "-------------------------  0 0.698733\n",
      "pred= [[ 0.5         0.61371624  0.39835376  0.5       ]]\n",
      "cpred= [[False  True False False]]\n",
      "accuracy= 0.25\n",
      "-------------------------  1000 0.357079\n",
      "pred= [[ 0.5         0.98532909  0.97312725  0.5       ]]\n",
      "cpred= [[False  True  True False]]\n",
      "accuracy= 0.5\n",
      "-------------------------  2000 0.349718\n",
      "pred= [[ 0.5         0.99551255  0.99195158  0.5       ]]\n",
      "cpred= [[False  True  True False]]\n",
      "accuracy= 0.5\n",
      "-------------------------  3000 0.347968\n",
      "pred= [[ 0.5         0.99799675  0.99643242  0.5       ]]\n",
      "cpred= [[False  True  True False]]\n",
      "accuracy= 0.5\n",
      "-------------------------  4000 0.347292\n",
      "pred= [[ 0.5         0.99896526  0.99816328  0.5       ]]\n",
      "cpred= [[False  True  True False]]\n",
      "accuracy= 0.5\n",
      "-------------------------  5000 0.346971\n",
      "pred= [[ 0.5         0.99942625  0.99898344  0.5       ]]\n",
      "cpred= [[False  True  True False]]\n",
      "accuracy= 0.5\n",
      "-------------------------  6000 0.346803\n",
      "pred= [[ 0.5         0.99966955  0.99941504  0.5       ]]\n",
      "cpred= [[False  True  True False]]\n",
      "accuracy= 0.5\n",
      "-------------------------  7000 0.346708\n",
      "pred= [[ 0.5         0.99980551  0.99965596  0.5       ]]\n",
      "cpred= [[False  True  True False]]\n",
      "accuracy= 0.5\n",
      "-------------------------  8000 0.346654\n",
      "pred= [[ 0.5         0.99988413  0.99979502  0.5       ]]\n",
      "cpred= [[False  True  True False]]\n",
      "accuracy= 0.5\n",
      "-------------------------  9000 0.346622\n",
      "pred= [[ 0.5         0.99993038  0.99987698  0.5       ]]\n",
      "cpred= [[False  True  True False]]\n",
      "accuracy= 0.5\n",
      "pred= [[ 0.5         0.99995804  0.99992573  0.5       ]]\n",
      "cpred= [[False  True  True False]]\n",
      "accuracy= 0.5\n"
     ]
    }
   ],
   "source": [
    "with tf.Session() as ss:\n",
    "    ss.run(tf.global_variables_initializer())\n",
    "    \n",
    "    # data fitting\n",
    "    # \n",
    "    for i in range(10000):\n",
    "        ss.run (train, feed_dict={X:xdata, Y:ydata})\n",
    "        if i%1000==0:\n",
    "            print ('------------------------- ',\n",
    "                   i, \n",
    "                   ss.run(cost, feed_dict={X:xdata, Y:ydata}))\n",
    "            evaluate (ss, xor_out, feed_dict)\n",
    "    # model test\n",
    "    #\n",
    "    evaluate(ss,xor_out, feed_dict)"
   ]
  },
  {
   "cell_type": "markdown",
   "metadata": {
    "deletable": true,
    "editable": true
   },
   "source": [
    "# Now, 2-layer network\n",
    "\n",
    "The network has now twoo layers. This will increase the capacity of the network and result in a correctly fitted model."
   ]
  },
  {
   "cell_type": "code",
   "execution_count": 8,
   "metadata": {
    "collapsed": false,
    "deletable": true,
    "editable": true
   },
   "outputs": [
    {
     "name": "stdout",
     "output_type": "stream",
     "text": [
      "------- data fitting evaluation ------\n",
      "iteraiton:  0  cost=  0.829651\n",
      "pred= [[ 0.26970422  0.30640954  0.22153802  0.26970422]]\n",
      "cpred= [[ True False False  True]]\n",
      "accuracy= 0.5\n",
      "------- data fitting evaluation ------\n",
      "iteraiton:  1000  cost=  0.680716\n",
      "pred= [[ 0.48619905  0.53650069  0.46378252  0.48619905]]\n",
      "cpred= [[ True  True False  True]]\n",
      "accuracy= 0.75\n",
      "------- data fitting evaluation ------\n",
      "iteraiton:  2000  cost=  0.658058\n",
      "pred= [[ 0.47312877  0.54800624  0.47276193  0.47312877]]\n",
      "cpred= [[ True  True False  True]]\n",
      "accuracy= 0.75\n",
      "------- data fitting evaluation ------\n",
      "iteraiton:  3000  cost=  0.620895\n",
      "pred= [[ 0.44676167  0.56310868  0.48414886  0.44676167]]\n",
      "cpred= [[ True  True False  True]]\n",
      "accuracy= 0.75\n",
      "------- data fitting evaluation ------\n",
      "iteraiton:  4000  cost=  0.561479\n",
      "pred= [[ 0.40717462  0.58887738  0.5113678   0.40717462]]\n",
      "cpred= [[ True  True  True  True]]\n",
      "accuracy= 1.0\n",
      "------- data fitting evaluation ------\n",
      "iteraiton:  5000  cost=  0.479513\n",
      "pred= [[ 0.3522929   0.62666446  0.55873829  0.3522929 ]]\n",
      "cpred= [[ True  True  True  True]]\n",
      "accuracy= 1.0\n",
      "------- data fitting evaluation ------\n",
      "iteraiton:  6000  cost=  0.386533\n",
      "pred= [[ 0.28785124  0.67505813  0.62235814  0.28785124]]\n",
      "cpred= [[ True  True  True  True]]\n",
      "accuracy= 1.0\n",
      "------- data fitting evaluation ------\n",
      "iteraiton:  7000  cost=  0.299672\n",
      "pred= [[ 0.22562708  0.72794509  0.69090414  0.22562708]]\n",
      "cpred= [[ True  True  True  True]]\n",
      "accuracy= 1.0\n",
      "------- data fitting evaluation ------\n",
      "iteraiton:  8000  cost=  0.229793\n",
      "pred= [[ 0.17431264  0.77729458  0.75264758  0.17431264]]\n",
      "cpred= [[ True  True  True  True]]\n",
      "accuracy= 1.0\n",
      "------- data fitting evaluation ------\n",
      "iteraiton:  9000  cost=  0.178128\n",
      "pred= [[ 0.13569607  0.81839389  0.80216616  0.13569607]]\n",
      "cpred= [[ True  True  True  True]]\n",
      "accuracy= 1.0\n",
      "pred= [[ 0.10767833  0.85059655  0.83971375  0.10767833]]\n",
      "cpred= [[ True  True  True  True]]\n",
      "accuracy= 1.0\n"
     ]
    }
   ],
   "source": [
    "nhidd = 12\n",
    "W1 = tf.Variable (tf.random_uniform([xdata.shape[1],nhidd], -1., 1.))\n",
    "b1 = tf.Variable (tf.zeros([nhidd]), name='b1')\n",
    "W2 = tf.Variable (tf.random_uniform([nhidd,1],-1.,-1.))\n",
    "b2 = tf.Variable (tf.zeros([1]), name='b2')\n",
    "\n",
    "h1 = tf.sigmoid( tf.matmul (X, W1) + b1)\n",
    "xor_out = tf.sigmoid (tf.matmul(h1, W2) + b2)\n",
    "\n",
    "yxlog = Y * tf.log(xor_out) + (1-Y)*tf.log(1.-xor_out)\n",
    "cost = -tf.reduce_mean ( yxlog )\n",
    "\n",
    "# minimize\n",
    "opti = tf.train.GradientDescentOptimizer(learning_rate=0.01)\n",
    "train2 = opti.minimize(cost)\n",
    "\n",
    "with tf.Session() as ss:\n",
    "    ss.run(tf.global_variables_initializer())\n",
    "        \n",
    "    # data fitting\n",
    "    # \n",
    "    for i in range(10000):\n",
    "        ss.run (train2, feed_dict={X:xdata, Y:ydata})\n",
    "        if i%1000==0:\n",
    "            print ('------- data fitting evaluation ------')\n",
    "            print ('iteraiton: ', i, \n",
    "                  ' cost= ', ss.run(cost, feed_dict={X:xdata, Y:ydata}))\n",
    "            evaluate (ss, xor_out, feed_dict)            \n",
    "            \n",
    "    # model test\n",
    "    #\n",
    "    evaluate (ss, xor_out, feed_dict)"
   ]
  },
  {
   "cell_type": "markdown",
   "metadata": {},
   "source": [
    "# Deep Network Learning"
   ]
  },
  {
   "cell_type": "code",
   "execution_count": 14,
   "metadata": {
    "collapsed": false,
    "deletable": true,
    "editable": true
   },
   "outputs": [
    {
     "name": "stdout",
     "output_type": "stream",
     "text": [
      "inputdim = 2  hdim= 5\n",
      "w defined: [2x5]\n",
      "inputdim = 5  hdim= 7\n",
      "w defined: [5x7]\n",
      "inputdim = 7  hdim= 9\n",
      "w defined: [7x9]\n",
      "inputdim = 9  hdim= 11\n",
      "w defined: [9x11]\n",
      "inputdim = 11  hdim= 9\n",
      "w defined: [11x9]\n",
      "inputdim = 9  hdim= 8\n",
      "w defined: [9x8]\n",
      "inputdim = 8  hdim= 4\n",
      "w defined: [8x4]\n",
      "inputdim = 4  hdim= 2\n",
      "w defined: [4x2]\n",
      "inputdim = 2  hdim= 1\n",
      "w defined: [2x1]\n",
      "------- data fitting evaluation ------\n",
      "iteraiton:  0  cost=  0.712688\n",
      "pred= [[ 0.59788823  0.59788769  0.59788859  0.59788823]]\n",
      "cpred= [[False  True  True False]]\n",
      "accuracy= 0.5\n",
      "------- data fitting evaluation ------\n",
      "iteraiton:  1000  cost=  0.693152\n",
      "pred= [[ 0.50158507  0.5015834   0.50158632  0.50158507]]\n",
      "cpred= [[False  True  True False]]\n",
      "accuracy= 0.5\n",
      "------- data fitting evaluation ------\n",
      "iteraiton:  2000  cost=  0.693147\n",
      "pred= [[ 0.50002587  0.50002426  0.50002724  0.50002587]]\n",
      "cpred= [[False  True  True False]]\n",
      "accuracy= 0.5\n",
      "------- data fitting evaluation ------\n",
      "iteraiton:  3000  cost=  0.693147\n",
      "pred= [[ 0.50000083  0.49999917  0.50000215  0.50000083]]\n",
      "cpred= [[False False  True False]]\n",
      "accuracy= 0.25\n",
      "------- data fitting evaluation ------\n",
      "iteraiton:  4000  cost=  0.693147\n",
      "pred= [[ 0.50000083  0.49999917  0.50000215  0.50000083]]\n",
      "cpred= [[False False  True False]]\n",
      "accuracy= 0.25\n",
      "------- data fitting evaluation ------\n",
      "iteraiton:  5000  cost=  0.693147\n",
      "pred= [[ 0.50000083  0.49999917  0.50000215  0.50000083]]\n",
      "cpred= [[False False  True False]]\n",
      "accuracy= 0.25\n",
      "------- data fitting evaluation ------\n",
      "iteraiton:  6000  cost=  0.693147\n",
      "pred= [[ 0.50000083  0.49999917  0.50000215  0.50000083]]\n",
      "cpred= [[False False  True False]]\n",
      "accuracy= 0.25\n",
      "------- data fitting evaluation ------\n",
      "iteraiton:  7000  cost=  0.693147\n",
      "pred= [[ 0.50000083  0.49999917  0.50000215  0.50000083]]\n",
      "cpred= [[False False  True False]]\n",
      "accuracy= 0.25\n",
      "------- data fitting evaluation ------\n",
      "iteraiton:  8000  cost=  0.693147\n",
      "pred= [[ 0.50000083  0.49999917  0.50000215  0.50000083]]\n",
      "cpred= [[False False  True False]]\n",
      "accuracy= 0.25\n",
      "------- data fitting evaluation ------\n",
      "iteraiton:  9000  cost=  0.693147\n",
      "pred= [[ 0.50000083  0.49999917  0.50000215  0.50000083]]\n",
      "cpred= [[False False  True False]]\n",
      "accuracy= 0.25\n",
      "pred= [[ 0.50000083  0.49999917  0.50000215  0.50000083]]\n",
      "cpred= [[False False  True False]]\n",
      "accuracy= 0.25\n"
     ]
    }
   ],
   "source": [
    "nhidd = [5, 7, 9, 11, 9, 8, 4, 2, 1]\n",
    "inputdim = xdata.shape[1]\n",
    "inet = X\n",
    "for hdim in nhidd:\n",
    "    print ('inputdim = {}  hdim= {}'.format(inputdim, hdim))\n",
    "    w = tf.Variable (tf.random_uniform([inputdim,hdim], -1., 1.))\n",
    "    print ('w defined: [{}x{}]'.format(inputdim,hdim))\n",
    "    b = tf.Variable (tf.zeros([hdim]))\n",
    "    hh = tf.sigmoid (tf.matmul(inet, w) + b)\n",
    "    \n",
    "    inet = hh\n",
    "    inputdim = hdim\n",
    "\n",
    "xor_deep = inet\n",
    "cost_deep = -tf.reduce_mean ( Y*tf.log(xor_deep) + (1.-Y)*tf.log(1.-xor_deep) )\n",
    "\n",
    "# minimize\n",
    "opti_deep = tf.train.GradientDescentOptimizer(learning_rate=0.01)\n",
    "train_deep = opti_deep.minimize(cost_deep)\n",
    "\n",
    "with tf.Session() as ss:\n",
    "    ss.run(tf.global_variables_initializer())\n",
    "        \n",
    "    # data fitting\n",
    "    # \n",
    "    for i in range(10000):\n",
    "        ss.run (train_deep, feed_dict={X:xdata, Y:ydata})\n",
    "        if i%1000==0:\n",
    "            print ('------- data fitting evaluation ------')\n",
    "            print ('iteraiton: ', i, \n",
    "                  ' cost= ', ss.run(cost_deep, feed_dict={X:xdata, Y:ydata}))\n",
    "            evaluate (ss, xor_deep, feed_dict)            \n",
    "            \n",
    "    # model test\n",
    "    #\n",
    "\n",
    "    evaluate (ss, xor_deep, feed_dict)"
   ]
  },
  {
   "cell_type": "code",
   "execution_count": null,
   "metadata": {
    "collapsed": true,
    "deletable": true,
    "editable": true
   },
   "outputs": [],
   "source": []
  }
 ],
 "metadata": {
  "kernelspec": {
   "display_name": "Python 3",
   "language": "python",
   "name": "python3"
  },
  "language_info": {
   "codemirror_mode": {
    "name": "ipython",
    "version": 3
   },
   "file_extension": ".py",
   "mimetype": "text/x-python",
   "name": "python",
   "nbconvert_exporter": "python",
   "pygments_lexer": "ipython3",
   "version": "3.6.0"
  }
 },
 "nbformat": 4,
 "nbformat_minor": 2
}
