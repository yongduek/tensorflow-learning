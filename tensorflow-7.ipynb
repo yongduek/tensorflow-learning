{
 "cells": [
  {
   "cell_type": "markdown",
   "metadata": {
    "deletable": true,
    "editable": true
   },
   "source": [
    "# A Simple Convolution Network\n",
    "\n",
    "- Sobel operator in $x$ direction = \n",
    "$\n",
    "    \\begin{bmatrix} \n",
    "        -1 & 0 & 1 \\\\\n",
    "        -2 & 0 & 2 \\\\\n",
    "        -1 & 0 & 1\n",
    "    \\end{bmatrix}\n",
    "$\n",
    "\n",
    "- One (input, output) image tuple is given.\n",
    "- http://docs.opencv.org/3.2.0/d2/d2c/tutorial_sobel_derivatives.html"
   ]
  },
  {
   "cell_type": "code",
   "execution_count": 44,
   "metadata": {
    "collapsed": false,
    "deletable": true,
    "editable": true
   },
   "outputs": [
    {
     "name": "stdout",
     "output_type": "stream",
     "text": [
      "/Users/yndk/Desktop/github/tensorflow-learning\n"
     ]
    }
   ],
   "source": [
    "import os\n",
    "print (os.getcwd())\n",
    "import numpy as np\n",
    "import tensorflow as tf\n",
    "import cv2 # opencv\n",
    "from matplotlib import pyplot as plt\n"
   ]
  },
  {
   "cell_type": "code",
   "execution_count": 22,
   "metadata": {
    "collapsed": false,
    "deletable": true,
    "editable": true
   },
   "outputs": [],
   "source": [
    "def readimagefiles(filelistname):\n",
    "    # lines = open(filelistname, 'r').readlines()\n",
    "    # print (lines)\n",
    "    i = 0\n",
    "    ins = []\n",
    "    outs = []\n",
    "    in_img = None\n",
    "    with open(filelistname, 'r') as file:\n",
    "        for line in file:\n",
    "            if line[0]!='#':\n",
    "                i += 1\n",
    "                print (i, line)\n",
    "                words = line.split()\n",
    "                print (words)\n",
    "                in_img = cv2.imread(words[0],0)\n",
    "                #print ('# in_img = ', in_img)\n",
    "                ins.append(in_img)\n",
    "    return in_img # only one image is needed now.\n",
    "\n",
    "def do_sobel (gray):\n",
    "    laplacian = cv2.Laplacian(gray,cv2.CV_64F)\n",
    "    sobelx = cv2.Sobel(gray,cv2.CV_64F,1,0,ksize=3)\n",
    "    return np.float32(sobelx)"
   ]
  },
  {
   "cell_type": "code",
   "execution_count": 31,
   "metadata": {
    "collapsed": false
   },
   "outputs": [
    {
     "name": "stdout",
     "output_type": "stream",
     "text": [
      "1 sobel/autumn.jpg\n",
      "\n",
      "['sobel/autumn.jpg']\n",
      "image= [[ 0.88235295  0.87843138  0.81176472 ...,  0.29411766  0.29019609\n",
      "   0.29411766]\n",
      " [ 0.69411767  0.81176472  0.82745099 ...,  0.26274511  0.27058825\n",
      "   0.26274511]\n",
      " [ 0.28627452  0.48627451  0.627451   ...,  0.24705882  0.23921569\n",
      "   0.22745098]\n",
      " ..., \n",
      " [ 0.38039216  0.38039216  0.39607844 ...,  0.08627451  0.10588235\n",
      "   0.11372549]\n",
      " [ 0.31764707  0.35686275  0.42352942 ...,  0.09803922  0.10588235\n",
      "   0.08235294]\n",
      " [ 0.39215687  0.40000001  0.42745098 ...,  0.20392157  0.18039216\n",
      "   0.1254902 ]] (240, 320) float32\n",
      "sobelx= [[ 0.          0.1254902   0.05490196 ...,  0.07058824  0.          0.        ]\n",
      " [ 0.          0.53725493  0.18431373 ...,  0.03921569 -0.01960784  0.        ]\n",
      " [ 0.          0.45490196  0.45490196 ..., -0.04705882 -0.04705882  0.        ]\n",
      " ..., \n",
      " [ 0.          0.16862746  0.16862746 ...,  0.          0.03529412  0.        ]\n",
      " [ 0.          0.26274511  0.14117648 ..., -0.03137255 -0.08235294  0.        ]\n",
      " [ 0.          0.28235295  0.09411765 ...,  0.         -0.1882353   0.        ]] (240, 320) float32\n"
     ]
    }
   ],
   "source": [
    "image = readimagefiles('sobel.txt')\n",
    "#print ('image=', image, image.shape, image.dtype)\n",
    "sobelx = do_sobel(image)\n",
    "#print ('sobelx=', sobelx, sobelx.shape, sobelx.dtype)\n",
    "\n",
    "image = np.float32(image)/255.;\n",
    "sobelx = np.float32(sobelx)/255.;\n",
    "\n",
    "print ('image=', image, image.shape, image.dtype)\n",
    "print ('sobelx=', sobelx, sobelx.shape, sobelx.dtype)"
   ]
  },
  {
   "cell_type": "markdown",
   "metadata": {},
   "source": [
    "### Now, the goal of the project is to make a convnet produce sobelx given image as an input.\n"
   ]
  },
  {
   "cell_type": "code",
   "execution_count": 42,
   "metadata": {
    "collapsed": false
   },
   "outputs": [
    {
     "name": "stdout",
     "output_type": "stream",
     "text": [
      "X= Tensor(\"Placeholder_15:0\", shape=(?, 240, 320, 1), dtype=float32)\n",
      "Y= Tensor(\"Placeholder_16:0\", shape=(?, 240, 320, 1), dtype=float32)\n",
      "filter2d= Tensor(\"Variable_6/read:0\", shape=(3, 3, 1, 1), dtype=float32)\n",
      "conv2d= Tensor(\"Conv2D_4:0\", shape=(?, 240, 320, 1), dtype=float32)\n"
     ]
    }
   ],
   "source": [
    "X = tf.placeholder (tf.float32, shape=[None]+list(image.shape)+[1])\n",
    "Y = tf.placeholder (tf.float32, shape=[None]+list(sobelx.shape)+[1])\n",
    "feed_dict = {X: image, Y:sobelx}\n",
    "\n",
    "print ('X=', X)\n",
    "print ('Y=', Y)\n",
    "\n",
    "# define NN model\n",
    "filter2d = tf.Variable(tf.random_normal([3,3,1,1], stddev=0.01))\n",
    "stride = 1\n",
    "strides = [1,stride,stride,1]\n",
    "padding = 'SAME'\n",
    "conv2d = tf.nn.conv2d (X, filter2d, strides, padding, use_cudnn_on_gpu=True)\n",
    "\n",
    "print ('filter2d=', filter2d)\n",
    "print ('conv2d=', conv2d)\n",
    "\n",
    "model = conv2d # goal: output of conv2d == sobel "
   ]
  },
  {
   "cell_type": "code",
   "execution_count": 43,
   "metadata": {
    "collapsed": false
   },
   "outputs": [],
   "source": [
    "cost = tf.reduce_mean (tf.square(model - Y))\n",
    "trainer = tf.train.AdamOptimizer(0.001).minimize(cost)"
   ]
  },
  {
   "cell_type": "code",
   "execution_count": null,
   "metadata": {
    "collapsed": true
   },
   "outputs": [],
   "source": [
    "with tf.Session() as ss:\n",
    "        ss.run(tf.global_variables_initializer())\n",
    "        for "
   ]
  }
 ],
 "metadata": {
  "kernelspec": {
   "display_name": "Python 3",
   "language": "python",
   "name": "python3"
  },
  "language_info": {
   "codemirror_mode": {
    "name": "ipython",
    "version": 3
   },
   "file_extension": ".py",
   "mimetype": "text/x-python",
   "name": "python",
   "nbconvert_exporter": "python",
   "pygments_lexer": "ipython3",
   "version": "3.6.0"
  }
 },
 "nbformat": 4,
 "nbformat_minor": 2
}
