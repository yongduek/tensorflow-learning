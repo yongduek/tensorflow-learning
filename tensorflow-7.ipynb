{
 "cells": [
  {
   "cell_type": "markdown",
   "metadata": {},
   "source": [
    "# A Simple Convolution Network\n",
    "\n",
    "- Sobel operator in $x$ direction = \n",
    "$\n",
    "    \\begin{bmatrix} \n",
    "        -1 & 0 & 1 \\\\\n",
    "        -2 & 0 & 2 \\\\\n",
    "        -1 & 0 & 1\n",
    "    \\end{bmatrix}\n",
    "$\n",
    "\n",
    "- One (input, output) image tuple is given.\n",
    "- http://docs.opencv.org/3.2.0/d2/d2c/tutorial_sobel_derivatives.html"
   ]
  },
  {
   "cell_type": "code",
   "execution_count": 1,
   "metadata": {
    "collapsed": true
   },
   "outputs": [],
   "source": [
    "import numpy as np\n",
    "import tensorflow as tf\n"
   ]
  },
  {
   "cell_type": "code",
   "execution_count": null,
   "metadata": {
    "collapsed": true
   },
   "outputs": [],
   "source": []
  }
 ],
 "metadata": {
  "kernelspec": {
   "display_name": "Python 3",
   "language": "python",
   "name": "python3"
  },
  "language_info": {
   "codemirror_mode": {
    "name": "ipython",
    "version": 3
   },
   "file_extension": ".py",
   "mimetype": "text/x-python",
   "name": "python",
   "nbconvert_exporter": "python",
   "pygments_lexer": "ipython3",
   "version": "3.6.0"
  }
 },
 "nbformat": 4,
 "nbformat_minor": 2
}
