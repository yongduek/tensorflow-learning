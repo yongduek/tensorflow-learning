{
 "cells": [
  {
   "cell_type": "markdown",
   "metadata": {
    "deletable": true,
    "editable": true
   },
   "source": [
    "# Tensor Graph for data visualization\n"
   ]
  },
  {
   "cell_type": "code",
   "execution_count": 1,
   "metadata": {
    "collapsed": false,
    "deletable": true,
    "editable": true
   },
   "outputs": [
    {
     "name": "stdout",
     "output_type": "stream",
     "text": [
      "xdata [[ 0.  0.]\n",
      " [ 0.  1.]\n",
      " [ 1.  0.]\n",
      " [ 0.  0.]] \n",
      " ydata [[ 0.]\n",
      " [ 1.]\n",
      " [ 1.]\n",
      " [ 0.]]\n",
      "xdata[0].shape= (2,) 4 2\n",
      "ydata.shape= (4, 1)\n"
     ]
    }
   ],
   "source": [
    "import numpy as np\n",
    "xy = np.loadtxt ('train-xor.txt', unpack=True)\n",
    "xdata = xy[0:-1].transpose() # 0 에서 끝-1 까지\n",
    "ydata = xy[-1:].transpose()\n",
    "print ('xdata', xdata, '\\n', 'ydata', ydata)\n",
    "print ('xdata[0].shape=', xdata[0].shape, xdata.shape[0], xdata.shape[1])\n",
    "print ('ydata.shape=', ydata.shape)"
   ]
  },
  {
   "cell_type": "markdown",
   "metadata": {
    "deletable": true,
    "editable": true
   },
   "source": [
    "## Specifying Unknown input batch size!\n",
    "\n",
    "- The input data may have unknown number of data. \n",
    "- The codes below shows how to specify such inputs/output data.\n",
    "- Notice that they are all defined as 2D tensors"
   ]
  },
  {
   "cell_type": "code",
   "execution_count": 9,
   "metadata": {
    "collapsed": false,
    "deletable": true,
    "editable": true
   },
   "outputs": [
    {
     "name": "stdout",
     "output_type": "stream",
     "text": [
      "[None, 2]\n",
      "[None, 1]\n"
     ]
    }
   ],
   "source": [
    "import tensorflow as tf\n",
    "\n",
    "X = tf.placeholder (tf.float32, name='Xinput', shape=[None,xdata.shape[1]])#+list(xdata[0].shape))\n",
    "print ([None] + list(xdata[0].shape))\n",
    "Y = tf.placeholder (tf.float32, name='Yinput', shape=[None]+list(ydata[0].shape))\n",
    "print ([None]+list(ydata[0].shape))"
   ]
  },
  {
   "cell_type": "markdown",
   "metadata": {
    "deletable": true,
    "editable": true
   },
   "source": [
    "# Now, 2-layer network\n",
    "\n",
    "The network has now twoo layers. This will increase the capacity of the network and result in a correctly fitted model."
   ]
  },
  {
   "cell_type": "code",
   "execution_count": 11,
   "metadata": {
    "collapsed": false,
    "deletable": true,
    "editable": true
   },
   "outputs": [],
   "source": [
    "nhidd = 12\n",
    "W1 = tf.Variable (tf.random_uniform([xdata.shape[1],nhidd], -1., 1.), name='W1')\n",
    "b1 = tf.Variable (tf.zeros([nhidd]), name='b1')\n",
    "W2 = tf.Variable (tf.random_uniform([nhidd,1],-1.,1.), name='W2')\n",
    "b2 = tf.Variable (tf.zeros([1]), name='b2')\n",
    "\n",
    "h1 = tf.sigmoid( tf.matmul (X, W1) + b1)\n",
    "xor_out = tf.sigmoid (tf.matmul(h1, W2) + b2)\n",
    "\n",
    "with tf.name_scope ('cost'):\n",
    "    yxlog = Y * tf.log(xor_out) + (1-Y)*tf.log(1.-xor_out)\n",
    "    cost = -tf.reduce_mean ( yxlog )\n",
    "    cost_summ = tf.summary.scalar ('cost', cost)"
   ]
  },
  {
   "cell_type": "code",
   "execution_count": 12,
   "metadata": {
    "collapsed": false,
    "deletable": true,
    "editable": true
   },
   "outputs": [],
   "source": [
    "# minimize\n",
    "opti = tf.train.GradientDescentOptimizer(learning_rate=0.01)\n",
    "train2 = opti.minimize(cost)"
   ]
  },
  {
   "cell_type": "code",
   "execution_count": 13,
   "metadata": {
    "collapsed": true,
    "deletable": true,
    "editable": true
   },
   "outputs": [],
   "source": [
    "def evaluate(ss, xor_out, feed_dict):\n",
    "    pred = ss.run (xor_out, feed_dict={X:xdata, Y:ydata})\n",
    "    print ('pred=', pred.transpose())\n",
    "    cpred = ss.run( tf.equal(tf.floor(xor_out+0.5), Y), feed_dict )\n",
    "    print ('cpred=', cpred.transpose())\n",
    "    accuracy = tf.reduce_mean (tf.cast(cpred, 'float'))\n",
    "    print ('accuracy=', accuracy.eval(feed_dict))"
   ]
  },
  {
   "cell_type": "markdown",
   "metadata": {
    "deletable": true,
    "editable": true
   },
   "source": [
    "### While main learning iteration is proceeding, \n",
    "\n",
    "! A directory named ```xor_logs``` will be shown.\n",
    "\n",
    "! type \n",
    "\n",
    "``$ tensorboard --logdir=xor_logs`` \n",
    "\n",
    "to see the progress."
   ]
  },
  {
   "cell_type": "code",
   "execution_count": 16,
   "metadata": {
    "collapsed": false,
    "deletable": true,
    "editable": true
   },
   "outputs": [
    {
     "name": "stdout",
     "output_type": "stream",
     "text": [
      "------- data fitting evaluation ------\n",
      "iteraiton:  0  cost=  0.716933\n",
      "pred= [[ 0.44412249  0.5098983   0.36067724  0.44412249]]\n",
      "cpred= [[ True  True False  True]]\n",
      "accuracy= 0.75\n",
      "------- data fitting evaluation ------\n",
      "iteraiton:  1000  cost=  0.567355\n",
      "pred= [[ 0.42388183  0.61890882  0.50321507  0.42388183]]\n",
      "cpred= [[ True  True  True  True]]\n",
      "accuracy= 1.0\n",
      "------- data fitting evaluation ------\n",
      "iteraiton:  2000  cost=  0.427709\n",
      "pred= [[ 0.34135488  0.68846655  0.60507303  0.34135488]]\n",
      "cpred= [[ True  True  True  True]]\n",
      "accuracy= 1.0\n",
      "pred= [[ 0.25408694  0.76155657  0.71110827  0.25408694]]\n",
      "cpred= [[ True  True  True  True]]\n",
      "accuracy= 1.0\n",
      "finished.\n"
     ]
    }
   ],
   "source": [
    "feed_dict={X:xdata, Y:ydata}\n",
    "\n",
    "with tf.Session() as ss:\n",
    "    merged = tf.summary.merge_all()\n",
    "    writer = tf.summary.FileWriter ('xor_logs')\n",
    "\n",
    "    ss.run(tf.global_variables_initializer())\n",
    "\n",
    "    # data fitting\n",
    "    # \n",
    "    for i in range(3000):\n",
    "        summary, _ = ss.run ([merged, train2], feed_dict={X:xdata, Y:ydata})\n",
    "        \n",
    "        writer.add_summary (summary, i)\n",
    "        \n",
    "        if i%1000==0:\n",
    "            print ('------- data fitting evaluation ------')\n",
    "            print ('iteraiton: ', i, \n",
    "                  ' cost= ', ss.run(cost, feed_dict=feed_dict))\n",
    "            evaluate (ss, xor_out, feed_dict)            \n",
    "            \n",
    "    # model test\n",
    "    #\n",
    "    evaluate (ss, xor_out, feed_dict)\n",
    "print ('finished.') "
   ]
  },
  {
   "cell_type": "markdown",
   "metadata": {
    "collapsed": true,
    "deletable": true,
    "editable": true
   },
   "source": [
    "## EOF"
   ]
  }
 ],
 "metadata": {
  "kernelspec": {
   "display_name": "Python 3",
   "language": "python",
   "name": "python3"
  },
  "language_info": {
   "codemirror_mode": {
    "name": "ipython",
    "version": 3
   },
   "file_extension": ".py",
   "mimetype": "text/x-python",
   "name": "python",
   "nbconvert_exporter": "python",
   "pygments_lexer": "ipython3",
   "version": "3.6.0"
  }
 },
 "nbformat": 4,
 "nbformat_minor": 2
}
