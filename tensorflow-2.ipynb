{
 "cells": [
  {
   "cell_type": "markdown",
   "metadata": {},
   "source": [
    "## Linear Regression with direct gradient descent"
   ]
  },
  {
   "cell_type": "code",
   "execution_count": 3,
   "metadata": {
    "collapsed": false
   },
   "outputs": [
    {
     "name": "stdout",
     "output_type": "stream",
     "text": [
      "0 46.8535 [-2.16860342]\n",
      "1 13.3272 [-0.68992186]\n",
      "2 3.79086 [ 0.09870839]\n",
      "3 1.07829 [ 0.51931119]\n",
      "4 0.306713 [ 0.74363267]\n",
      "5 0.0872428 [ 0.86327076]\n",
      "6 0.0248157 [ 0.92707777]\n",
      "7 0.00705869 [ 0.96110815]\n",
      "8 0.0020078 [ 0.9792577]\n",
      "9 0.000571107 [ 0.98893744]\n",
      "10 0.000162449 [ 0.99409997]\n",
      "11 4.62065e-05 [ 0.99685335]\n",
      "12 1.31434e-05 [ 0.99832177]\n",
      "13 3.73892e-06 [ 0.99910492]\n",
      "14 1.06352e-06 [ 0.99952263]\n",
      "15 3.02401e-07 [ 0.99974543]\n",
      "16 8.60025e-08 [ 0.99986422]\n",
      "17 2.44662e-08 [ 0.99992758]\n",
      "18 6.96173e-09 [ 0.99996138]\n",
      "19 1.98973e-09 [ 0.99997938]\n"
     ]
    }
   ],
   "source": [
    "import tensorflow as tf\n",
    "\n",
    "W=tf.Variable(tf.random_uniform([1], -100, 100))\n",
    "X=tf.placeholder(tf.float32)\n",
    "Y=tf.placeholder(tf.float32)\n",
    "\n",
    "model = W * X\n",
    "\n",
    "# L2 cost function \n",
    "cost = tf.reduce_mean (tf.square(model - Y))\n",
    "\n",
    "#\n",
    "gd = W - tf.multiply(0.1,\n",
    "                    tf.reduce_mean(\n",
    "                        tf.multiply(model-Y, X)))\n",
    "update = W.assign (gd)\n",
    "\n",
    "# initialize \n",
    "ss = tf.Session()\n",
    "ss.run (tf.global_variables_initializer())\n",
    "\n",
    "# fit to data\n",
    "xin = [1, 2, 3]\n",
    "yin = [1., 2, 3]\n",
    "feed_dict={X: xin, Y:yin}\n",
    "for i in range(20):\n",
    "    ss.run (update, feed_dict=feed_dict)\n",
    "    print (i, ss.run(cost, feed_dict=feed_dict), ss.run(W))"
   ]
  },
  {
   "cell_type": "markdown",
   "metadata": {},
   "source": [
    "## Multi-variable linear regression\n",
    "$y = w_1 x_1 + w_2 x_2 + b = [b, w_1, w_2 ] [1; x_1; x_2] $"
   ]
  },
  {
   "cell_type": "code",
   "execution_count": 22,
   "metadata": {
    "collapsed": false
   },
   "outputs": [
    {
     "name": "stdout",
     "output_type": "stream",
     "text": [
      "0 0.259726 [[ 0.96568108  0.56886142  0.79722333]]\n",
      "200 7.20708e-07 [[ 0.00201244  0.99937236  0.99947101]]\n",
      "400 3.16049e-12 [[  4.04360117e-06   9.99998689e-01   9.99998868e-01]]\n",
      "600 4.83169e-14 [[  1.62147217e-07   9.99999940e-01   9.99999940e-01]]\n",
      "800 4.83169e-14 [[  1.62147217e-07   9.99999940e-01   9.99999940e-01]]\n",
      "1000 4.83169e-14 [[  1.62147217e-07   9.99999940e-01   9.99999940e-01]]\n",
      "done.\n"
     ]
    }
   ],
   "source": [
    "x_in = [[1,1,1,1,1],\n",
    "        [0, 2, 0, 4, 0],\n",
    "        [1.,0,3,0,5] ]\n",
    "y_in = [[1, 2, 3, 4, 5]]\n",
    "\n",
    "W = tf.Variable(tf.random_uniform([1,3], -1.,1.))\n",
    "\n",
    "model = tf.matmul (W, x_in)\n",
    "cost = tf.reduce_mean (tf.square(model - y_in))\n",
    "\n",
    "\n",
    "a=tf.Variable(0.1)\n",
    "opt = tf.train.GradientDescentOptimizer(learning_rate=a)\n",
    "train = opt.minimize(cost)\n",
    "\n",
    "# initialize \n",
    "ss = tf.Session()\n",
    "ss.run (tf.global_variables_initializer())\n",
    "\n",
    "# fit to data\n",
    "for i in range(1001):\n",
    "    ss.run (train)\n",
    "    if i%200 == 0:\n",
    "        print (i, ss.run(cost), ss.run(W))\n",
    "\n",
    "print ('done.')"
   ]
  },
  {
   "cell_type": "markdown",
   "metadata": {},
   "source": [
    "*Input data can be fed at learning time using the option ``Session.run()`` ``feed_dict``"
   ]
  },
  {
   "cell_type": "code",
   "execution_count": 24,
   "metadata": {
    "collapsed": false
   },
   "outputs": [
    {
     "name": "stdout",
     "output_type": "stream",
     "text": [
      "0 0.788047 [[ 0.12009734  1.26336324  0.75217521]]\n",
      "200 8.8931e-09 [[  2.23626019e-04   9.99941230e-01   9.99930263e-01]]\n",
      "400 6.82121e-14 [[  5.56843872e-07   9.99999881e-01   9.99999821e-01]]\n",
      "600 1.42109e-14 [[  1.75374353e-07   1.00000000e+00   9.99999940e-01]]\n",
      "800 1.42109e-14 [[  1.75374353e-07   1.00000000e+00   9.99999940e-01]]\n",
      "1000 1.42109e-14 [[  1.75374353e-07   1.00000000e+00   9.99999940e-01]]\n",
      "1200 1.42109e-14 [[  1.75374353e-07   1.00000000e+00   9.99999940e-01]]\n",
      "1400 1.42109e-14 [[  1.75374353e-07   1.00000000e+00   9.99999940e-01]]\n",
      "1600 1.42109e-14 [[  1.75374353e-07   1.00000000e+00   9.99999940e-01]]\n",
      "1800 1.42109e-14 [[  1.75374353e-07   1.00000000e+00   9.99999940e-01]]\n",
      "2000 1.42109e-14 [[  1.75374353e-07   1.00000000e+00   9.99999940e-01]]\n",
      "done.\n"
     ]
    }
   ],
   "source": [
    "x_in = [[1.,1,1,1,1],\n",
    "        [1,0,3,0,5],\n",
    "        [0, 2, 0, 4, 0]\n",
    "       ]\n",
    "y_in = [[1., 2, 3, 4, 5]]\n",
    "\n",
    "W = tf.Variable(tf.random_uniform([1,3], -1.,1))\n",
    "X = tf.placeholder(tf.float32, shape=(3,5))\n",
    "Y = tf.placeholder(tf.float32, shape=(1,5))\n",
    "\n",
    "model = tf.matmul (W,X)\n",
    "cost = tf.reduce_mean (tf.square(model - Y))\n",
    "\n",
    "a=tf.Variable(0.1)\n",
    "opt = tf.train.GradientDescentOptimizer(learning_rate=a)\n",
    "train = opt.minimize(cost)\n",
    "\n",
    "# initialize \n",
    "ss = tf.Session()\n",
    "ss.run (tf.global_variables_initializer())\n",
    "\n",
    "# fit to data\n",
    "feed_dict={X: x_in, Y:y_in}\n",
    "for i in range(1001):\n",
    "    ss.run (train, feed_dict=feed_dict)\n",
    "    if i%200 == 0:\n",
    "        print (i, ss.run(cost, feed_dict=feed_dict), ss.run(W))\n",
    "print ('done.')"
   ]
  },
  {
   "cell_type": "markdown",
   "metadata": {},
   "source": [
    "## data loading from file\n",
    "- ``np.loadtxt()`` reads the txt datafile and do transposition!\n",
    "\n",
    "- tf.placeholder() may use ``shape=data.shape``"
   ]
  },
  {
   "cell_type": "code",
   "execution_count": 32,
   "metadata": {
    "collapsed": false
   },
   "outputs": [
    {
     "name": "stdout",
     "output_type": "stream",
     "text": [
      "xy= [[ 1.  1.  1.  1.  1.]\n",
      " [ 1.  0.  3.  0.  5.]\n",
      " [ 0.  2.  0.  4.  0.]\n",
      " [ 1.  2.  3.  4.  5.]]\n",
      "xdata= [[ 1.  1.  1.  1.  1.]\n",
      " [ 1.  0.  3.  0.  5.]\n",
      " [ 0.  2.  0.  4.  0.]]  shape= (3, 5)\n",
      "ydata= [ 1.  2.  3.  4.  5.]  shape= (5,)\n",
      "## data fitting\n",
      "0 7.04798 [[ 1.06557155  1.7138257   0.74394292]]\n",
      "200 4.96941e-07 [[ 0.001671    0.99956065  0.99947882]]\n",
      "400 2.00373e-12 [[  3.38706627e-06   9.99999106e-01   9.99998927e-01]]\n",
      "600 1.42109e-14 [[  1.77952884e-07   1.00000000e+00   9.99999940e-01]]\n",
      "800 1.42109e-14 [[  1.77952884e-07   1.00000000e+00   9.99999940e-01]]\n",
      "1000 1.42109e-14 [[  1.77952884e-07   1.00000000e+00   9.99999940e-01]]\n",
      "done.\n"
     ]
    }
   ],
   "source": [
    "import numpy as np\n",
    "xy = np.loadtxt ('train.txt', unpack=True, dtype='float32')\n",
    "xdata = xy[0:-1]\n",
    "ydata = xy[-1]\n",
    "print ('xy=', xy)\n",
    "print ('xdata=', xdata, ' shape=', xdata.shape)\n",
    "print('ydata=', ydata, ' shape=', ydata.shape)\n",
    "\n",
    "W = tf.Variable(tf.random_uniform([1,len(xdata)], -1.,1))\n",
    "X = tf.placeholder(tf.float32, shape=xdata.shape)\n",
    "Y = tf.placeholder(tf.float32, shape=ydata.shape)\n",
    "\n",
    "model = tf.matmul (W,X)\n",
    "cost = tf.reduce_mean (tf.square(model - Y))\n",
    "\n",
    "a=tf.Variable(0.1)\n",
    "opt = tf.train.GradientDescentOptimizer(learning_rate=a)\n",
    "train = opt.minimize(cost)\n",
    "\n",
    "# initialize \n",
    "ss = tf.Session()\n",
    "ss.run (tf.global_variables_initializer())\n",
    "\n",
    "# fit to data\n",
    "print ('## data fitting')\n",
    "feed_dict={X: xdata, Y:ydata}\n",
    "for i in range(1001):\n",
    "    ss.run (train, feed_dict=feed_dict)\n",
    "    if i%200 == 0:\n",
    "        print (i, ss.run(cost, feed_dict=feed_dict), ss.run(W))\n",
    "print ('done.')"
   ]
  },
  {
   "cell_type": "code",
   "execution_count": null,
   "metadata": {
    "collapsed": true
   },
   "outputs": [],
   "source": []
  }
 ],
 "metadata": {
  "kernelspec": {
   "display_name": "Python 3",
   "language": "python",
   "name": "python3"
  },
  "language_info": {
   "codemirror_mode": {
    "name": "ipython",
    "version": 3
   },
   "file_extension": ".py",
   "mimetype": "text/x-python",
   "name": "python",
   "nbconvert_exporter": "python",
   "pygments_lexer": "ipython3",
   "version": "3.6.0"
  }
 },
 "nbformat": 4,
 "nbformat_minor": 2
}
