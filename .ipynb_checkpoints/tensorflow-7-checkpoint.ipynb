{
 "cells": [
  {
   "cell_type": "markdown",
   "metadata": {
    "deletable": true,
    "editable": true
   },
   "source": [
    "# A Simple Convolution Network\n",
    "\n",
    "- Sobel operator in $x$ direction = \n",
    "$\n",
    "    \\begin{bmatrix} \n",
    "        -1 & 0 & 1 \\\\\n",
    "        -2 & 0 & 2 \\\\\n",
    "        -1 & 0 & 1\n",
    "    \\end{bmatrix}\n",
    "$\n",
    "\n",
    "- One (input, output) image tuple is given.\n",
    "- http://docs.opencv.org/3.2.0/d2/d2c/tutorial_sobel_derivatives.html"
   ]
  },
  {
   "cell_type": "code",
   "execution_count": 1,
   "metadata": {
    "collapsed": true,
    "deletable": true,
    "editable": true
   },
   "outputs": [],
   "source": [
    "import numpy as np\n",
    "import tensorflow as tf\n"
   ]
  },
  {
   "cell_type": "code",
   "execution_count": 9,
   "metadata": {
    "collapsed": false,
    "deletable": true,
    "editable": true
   },
   "outputs": [],
   "source": [
    "def readimagefiles(filelistname):\n",
    "    # lines = open(filelistname, 'r').readlines()\n",
    "    # print (lines)\n",
    "    i = 0\n",
    "    ins = []\n",
    "    outs = []\n",
    "    with open(filelistname, 'r') as file:\n",
    "        for line in file:\n",
    "            if line[0]!='#':\n",
    "                i += 1\n",
    "                print (i, line)\n",
    "                words = line.split()\n",
    "                print (words)\n",
    "                in_img = cv2.imread(words[0],0)"
   ]
  },
  {
   "cell_type": "code",
   "execution_count": 10,
   "metadata": {
    "collapsed": false
   },
   "outputs": [
    {
     "name": "stdout",
     "output_type": "stream",
     "text": [
      "1 sobel/autumn.jpg   sobel/autumn-sobelx.jpg\n",
      "\n",
      "['sobel/autumn.jpg', 'sobel/autumn-sobelx.jpg']\n"
     ]
    }
   ],
   "source": [
    "readimagefiles('sobel.txt')"
   ]
  },
  {
   "cell_type": "code",
   "execution_count": null,
   "metadata": {
    "collapsed": true
   },
   "outputs": [],
   "source": []
  }
 ],
 "metadata": {
  "kernelspec": {
   "display_name": "Python 3",
   "language": "python",
   "name": "python3"
  },
  "language_info": {
   "codemirror_mode": {
    "name": "ipython",
    "version": 3
   },
   "file_extension": ".py",
   "mimetype": "text/x-python",
   "name": "python",
   "nbconvert_exporter": "python",
   "pygments_lexer": "ipython3",
   "version": "3.6.0"
  }
 },
 "nbformat": 4,
 "nbformat_minor": 2
}
